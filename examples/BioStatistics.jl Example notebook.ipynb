{
 "cells": [
  {
   "cell_type": "markdown",
   "id": "d07a1769",
   "metadata": {},
   "source": [
    "# BioStatistics.jl : Julia Package for Biostats"
   ]
  },
  {
   "cell_type": "markdown",
   "id": "a47a31c1",
   "metadata": {},
   "source": [
    "## Implementation of Biostatistics Tools from BIO 313 course"
   ]
  },
  {
   "cell_type": "markdown",
   "id": "558f4ecb",
   "metadata": {},
   "source": [
    "### Modules:\n",
    "\n",
    "- ANOVA testing\n",
    "- Hypothesis Testing\n",
    "- Bayesian statistics\n",
    "- "
   ]
  },
  {
   "cell_type": "code",
   "execution_count": 1,
   "id": "23fc867c",
   "metadata": {},
   "outputs": [
    {
     "name": "stdout",
     "output_type": "stream",
     "text": [
      "This is the first line of code for the Biostatistics.jl Package\n"
     ]
    }
   ],
   "source": [
    "println(\"This is the first line of code for the Biostatistics.jl Package\")"
   ]
  },
  {
   "cell_type": "code",
   "execution_count": null,
   "id": "6e899bf5",
   "metadata": {},
   "outputs": [],
   "source": [
    "using statistics"
   ]
  },
  {
   "cell_type": "markdown",
   "id": "18c5085f",
   "metadata": {},
   "source": [
    "Course Content:\n",
    "\n",
    "* Probability Distributions: Normal distribution: Properties, Measures of location and dispersion: Descriptive statistics: (Mean, mode, median, quartile, standard deviation, standard error, coefficient of variation, skewness and kurtosis) Poisson distribution and Binomial distribution\n",
    "* Confidence Intervals and Hypothesis testing (Confidence levels; concept and rationale of null hypothesis; Type- I and Type-II errors and their interpretation and measurement)\n",
    "* Field Sampling and Experimental Designs (random, systematic, and stratified sampling; replication, pseudoreplication, controls, paired-sample designs, factorial designs, etc.)\n",
    "* Null hypothesis and significance testing\n",
    "* One sample test: Student’s t-test\n",
    "* Paired-sample t-test\n",
    "* Analysis of Variance: One-way ANOVA (Analysis and F-testing; Multiple comparisons among means – a priori and a posteriori tests; Assumptions of ANOVA)\n",
    "* Analysis of Variance: Two-way ANOVA (Significance testing for factor interaction)\n",
    "* Analysis of variance: Randomized block designs and Repeated Measures designs\n",
    "* Correlation\n",
    "* Linear Regression\n",
    "* Brief introduction to logistic, curvilinear and multiple regressions\n",
    "* Analysis of frequencies: Tests for goodness of fit and for independence ( 2 and Likelihood ratio tests)\n",
    "* Power of a statistical test\n",
    "* Nonparametric Tests (Mann-Whitney U-test, Wilcoxon signed-rank test, Spearman’s Rank Correlation test, Kruskall-Wallis Test)\n",
    "* Brief introduction to Bayesian Statistics"
   ]
  },
  {
   "cell_type": "markdown",
   "id": "b1cfeda6",
   "metadata": {},
   "source": [
    "### Possible class that can be created:\n",
    "* Random variables continous and discrete\n",
    "* distributions can be coded as classes (structs in this case)\n",
    "* Plots as functions of the classes of distributions"
   ]
  },
  {
   "cell_type": "code",
   "execution_count": null,
   "id": "3eeb8f73",
   "metadata": {},
   "outputs": [],
   "source": [
    "function prob_distribution()\n",
    "    \n",
    "end\n",
    "\n",
    "function poission_distribution()\n",
    "end\n",
    "\n",
    "function binomial_distribution()\n",
    "end\n",
    "\n",
    "function get_confidence_intervals()\n",
    "end\n",
    "\n",
    "function hypothesis_testing()\n",
    "end\n",
    "\n",
    "function linear_regression()\n",
    "end\n",
    "\n",
    "function logistic_regression()\n",
    "end\n",
    "\n",
    "function do_paired_sample_t_test()\n",
    "end\n",
    "\n",
    "function perform_ANOVA_testing()\n",
    "end\n",
    "\n",
    "function two_way_anova_test()\n",
    "end\n",
    "\n",
    "function mann_whitney_u_test()\n",
    "end\n",
    "\n",
    "function frequency_analysis()\n",
    "end\n",
    "\n",
    "function generate_correlation()\n",
    "end\n",
    "\n",
    "function curvilinear_regression()\n",
    "end\n",
    "\n",
    "function multiple_regression()\n",
    "end\n",
    "\n",
    "function wilcoxin_signed_rank_test()\n",
    "end\n",
    "\n",
    "function spearmans_rank_correlation_test()\n",
    "end\n",
    "\n",
    "function kruskall_wallis_test()\n",
    "end\n",
    "\n",
    "\n",
    "function randomized_block_designs()\n",
    "end\n",
    "e\n",
    "\n"
   ]
  },
  {
   "cell_type": "markdown",
   "id": "4a3700d8",
   "metadata": {},
   "source": [
    "## Module on Bayesian Statistics: \n",
    "\n",
    "* Bayesian Hypothesis testing\n",
    "* "
   ]
  },
  {
   "cell_type": "code",
   "execution_count": null,
   "id": "622379d0",
   "metadata": {},
   "outputs": [],
   "source": []
  }
 ],
 "metadata": {
  "kernelspec": {
   "display_name": "Julia 1.7.3",
   "language": "julia",
   "name": "julia-1.7"
  },
  "language_info": {
   "file_extension": ".jl",
   "mimetype": "application/julia",
   "name": "julia",
   "version": "1.7.3"
  }
 },
 "nbformat": 4,
 "nbformat_minor": 5
}
